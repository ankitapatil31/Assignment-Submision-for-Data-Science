{
  "nbformat": 4,
  "nbformat_minor": 0,
  "metadata": {
    "colab": {
      "name": "Day1Assinment.ipynb",
      "provenance": [],
      "collapsed_sections": []
    },
    "kernelspec": {
      "name": "python3",
      "display_name": "Python 3"
    }
  },
  "cells": [
    {
      "cell_type": "markdown",
      "metadata": {
        "id": "Xvp5pwb1vjJl"
      },
      "source": [
        "## **Quesion 1:**\n",
        "\n",
        "Given the following jumbled word, OBANWRI guess the correct English word.\n",
        "# Ans:  RAINBOW\n"
      ]
    },
    {
      "cell_type": "markdown",
      "metadata": {
        "id": "ajX6AxuCvcZQ"
      },
      "source": [
        "## **Questions 2:**\n",
        "\n",
        "Write a program which prints “LETS UPGRADE”. (Please note that you have to print in ALL CAPS as given)"
      ]
    },
    {
      "cell_type": "code",
      "metadata": {
        "id": "SSu1KUjetQI8",
        "outputId": "f94cc890-dbd2-4787-e814-19ee6534d9f1",
        "colab": {
          "base_uri": "https://localhost:8080/"
        }
      },
      "source": [
        "# Questions 2:\n",
        "# Write a program which prints “LETS UPGRADE”. (Please note that you have to print in ALL CAPS as given)\n",
        "\n",
        "str = 'LETS UPGRADE'\n",
        "print(str)\n"
      ],
      "execution_count": 5,
      "outputs": [
        {
          "output_type": "stream",
          "text": [
            "LETS UPGRADE\n"
          ],
          "name": "stdout"
        }
      ]
    },
    {
      "cell_type": "markdown",
      "metadata": {
        "id": "3XxwLFkfvOev"
      },
      "source": [
        "## Another solution for Quetion 2 (Optional)**bold text**\n"
      ]
    },
    {
      "cell_type": "code",
      "metadata": {
        "id": "EXdrLG0OusNd",
        "outputId": "31eb286e-137f-43aa-e484-281d9d1c4653",
        "colab": {
          "base_uri": "https://localhost:8080/"
        }
      },
      "source": [
        "# Another solution for Quetion 2 (Optional)\n",
        "\n",
        "str = input(\"Enter String:- \\t \")\n",
        "print(str.upper())\n"
      ],
      "execution_count": 12,
      "outputs": [
        {
          "output_type": "stream",
          "text": [
            "Enter String:- \t lets upgrade\n",
            "LETS UPGRADE\n"
          ],
          "name": "stdout"
        }
      ]
    },
    {
      "cell_type": "markdown",
      "metadata": {
        "id": "JAJA-EY8vB54"
      },
      "source": [
        "# **Quesion 3 :**\n",
        "\n",
        "Write a program that takes cost price and selling price as input and displays whether the transaction is a\n",
        "Profit or a Loss or Neither.\n",
        "\\nINPUT FORMAT\n",
        "The first line contains the cost price.\n",
        "The second line contains the selling price.\n",
        "OUTPUT FORMAT\n",
        "Print \"Profit\" if the transaction is a profit or \"Loss\" if it is a loss. If it is neither\n",
        " profit nor loss, print \"Neither\". (You must not have quotes in your output)"
      ]
    },
    {
      "cell_type": "code",
      "metadata": {
        "id": "51VOmmNfvMIW",
        "outputId": "7ab7e4fb-8f0d-452a-fb10-7088c560d2dc",
        "colab": {
          "base_uri": "https://localhost:8080/"
        }
      },
      "source": [
        "\n",
        "cp = int(input())\n",
        "sp = int(input())\n",
        "\n",
        "if cp != sp:\n",
        "    if sp > cp:\n",
        "        print(\"Profit\")\n",
        "    else:\n",
        "        print(\"Loss\")\n",
        "else:\n",
        "    print(\"Neither\")\n",
        "2"
      ],
      "execution_count": 21,
      "outputs": [
        {
          "output_type": "stream",
          "text": [
            "33\n",
            "0\n",
            "Loss\n"
          ],
          "name": "stdout"
        }
      ]
    },
    {
      "cell_type": "markdown",
      "metadata": {
        "id": "veqzpuObJsj8"
      },
      "source": [
        "# **Questions 4:**\n",
        "\n",
        "Write a program that takes an amount in Euros as input. You need to find its equivalent in\n",
        "Rupees and display it. Assume 1 Euro equals Rs. 80.\n",
        "Please note that you are expected to stick to the given input and output\n",
        "format as in sample test cases. Please don't add any extra lines such as\n",
        "'Enter a number', etc.\n",
        "Your program should take only one number as input and display the output."
      ]
    },
    {
      "cell_type": "code",
      "metadata": {
        "id": "iFKC-psIK7jF",
        "outputId": "545eb933-0892-45a3-a7f8-b7f0813f90ca",
        "colab": {
          "base_uri": "https://localhost:8080/"
        }
      },
      "source": [
        "number = int(input())\n",
        "print(number*80)"
      ],
      "execution_count": 23,
      "outputs": [
        {
          "output_type": "stream",
          "text": [
            "7\n",
            "560\n"
          ],
          "name": "stdout"
        }
      ]
    }
  ]
}